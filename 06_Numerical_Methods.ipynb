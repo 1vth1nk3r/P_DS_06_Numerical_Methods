{
 "cells": [
  {
   "cell_type": "markdown",
   "metadata": {},
   "source": [
    "Rusty Bargain used car sales service is developing an app to attract new customers. In that app, you can quickly find out the market value of your car. You have access to historical data: technical specifications, trim versions, and prices. You need to build the model to determine the value. \n",
    "\n",
    "Rusty Bargain is interested in:\n",
    "\n",
    "- the quality of the prediction;\n",
    "- the speed of the prediction;\n",
    "- the time required for training"
   ]
  },
  {
   "cell_type": "markdown",
   "metadata": {},
   "source": [
    "**Description of the data**\n",
    "```\n",
    "/datasets/car_data.csv\n",
    "Features:\n",
    "    DateCrawled — date profile was downloaded from the database\n",
    "    VehicleType — vehicle body type\n",
    "    RegistrationYear — vehicle registration year\n",
    "    Gearbox — gearbox type\n",
    "    Power — power (hp)\n",
    "    Model — vehicle model\n",
    "    Mileage — mileage (measured in km due to dataset's regional specifics)\n",
    "    RegistrationMonth — vehicle registration month\n",
    "    FuelType — fuel type\n",
    "    Brand — vehicle brand\n",
    "    NotRepaired — vehicle repaired or not\n",
    "    DateCreated — date of profile creation\n",
    "    NumberOfPictures — number of vehicle pictures\n",
    "    PostalCode — postal code of profile owner (user)\n",
    "    LastSeen — date of the last activity of the user\n",
    "Target:\n",
    "    Price — price (Euro)\n",
    "```"
   ]
  },
  {
   "cell_type": "markdown",
   "metadata": {},
   "source": [
    "## Data preparation"
   ]
  },
  {
   "cell_type": "code",
   "execution_count": 1,
   "metadata": {},
   "outputs": [
    {
     "data": {
      "application/javascript": [
       "IPython.OutputArea.prototype._should_scroll = function(lines) {\n",
       "    return false;\n",
       "}\n"
      ],
      "text/plain": [
       "<IPython.core.display.Javascript object>"
      ]
     },
     "metadata": {},
     "output_type": "display_data"
    }
   ],
   "source": [
    "%%javascript\n",
    "IPython.OutputArea.prototype._should_scroll = function(lines) {\n",
    "    return false;\n",
    "}"
   ]
  },
  {
   "cell_type": "code",
   "execution_count": 2,
   "metadata": {},
   "outputs": [],
   "source": [
    "import numpy as np\n",
    "import pandas as pd\n",
    "import math\n",
    "import time\n",
    "\n",
    "from category_encoders import BinaryEncoder, OrdinalEncoder\n",
    "\n",
    "from catboost import CatBoostRegressor, Pool\n",
    "from lightgbm import LGBMRegressor\n",
    "\n",
    "from sklearn.ensemble import RandomForestRegressor\n",
    "from sklearn.linear_model import LinearRegression\n",
    "\n",
    "from sklearn.metrics import make_scorer, mean_squared_error \n",
    "from sklearn.model_selection import train_test_split, GridSearchCV\n",
    "from sklearn.pipeline import Pipeline\n",
    "from sklearn.preprocessing import  MinMaxScaler\n",
    "\n",
    "import warnings\n",
    "warnings.filterwarnings('ignore')"
   ]
  },
  {
   "cell_type": "code",
   "execution_count": 3,
   "metadata": {},
   "outputs": [],
   "source": [
    "pd.set_option('display.float_format', '{:.3f}'.format)\n",
    "pd.set_option('display.max_colwidth', None) # no wrap\n",
    "pd.set_option('display.max_columns', 100) # columns number\n",
    "pd.set_option('display.max_rows', 50) # rows number"
   ]
  },
  {
   "cell_type": "code",
   "execution_count": 4,
   "metadata": {},
   "outputs": [],
   "source": [
    "car_dates = ['DateCrawled', 'DateCreated', 'LastSeen']\n",
    "\n",
    "try:\n",
    "    df = pd.read_csv('./datasets/car_data.csv', parse_dates=car_dates)\n",
    "except:\n",
    "    df = pd.read_csv('/datasets/car_data.csv', parse_dates=car_dates)"
   ]
  },
  {
   "cell_type": "code",
   "execution_count": 5,
   "metadata": {},
   "outputs": [
    {
     "name": "stdout",
     "output_type": "stream",
     "text": [
      "<class 'pandas.core.frame.DataFrame'>\n",
      "RangeIndex: 354369 entries, 0 to 354368\n",
      "Data columns (total 16 columns):\n",
      " #   Column             Non-Null Count   Dtype         \n",
      "---  ------             --------------   -----         \n",
      " 0   DateCrawled        354369 non-null  datetime64[ns]\n",
      " 1   Price              354369 non-null  int64         \n",
      " 2   VehicleType        316879 non-null  object        \n",
      " 3   RegistrationYear   354369 non-null  int64         \n",
      " 4   Gearbox            334536 non-null  object        \n",
      " 5   Power              354369 non-null  int64         \n",
      " 6   Model              334664 non-null  object        \n",
      " 7   Mileage            354369 non-null  int64         \n",
      " 8   RegistrationMonth  354369 non-null  int64         \n",
      " 9   FuelType           321474 non-null  object        \n",
      " 10  Brand              354369 non-null  object        \n",
      " 11  NotRepaired        283215 non-null  object        \n",
      " 12  DateCreated        354369 non-null  datetime64[ns]\n",
      " 13  NumberOfPictures   354369 non-null  int64         \n",
      " 14  PostalCode         354369 non-null  int64         \n",
      " 15  LastSeen           354369 non-null  datetime64[ns]\n",
      "dtypes: datetime64[ns](3), int64(7), object(6)\n",
      "memory usage: 43.3+ MB\n"
     ]
    }
   ],
   "source": [
    "df.info()"
   ]
  },
  {
   "cell_type": "code",
   "execution_count": 6,
   "metadata": {},
   "outputs": [
    {
     "data": {
      "text/html": [
       "<div>\n",
       "<style scoped>\n",
       "    .dataframe tbody tr th:only-of-type {\n",
       "        vertical-align: middle;\n",
       "    }\n",
       "\n",
       "    .dataframe tbody tr th {\n",
       "        vertical-align: top;\n",
       "    }\n",
       "\n",
       "    .dataframe thead th {\n",
       "        text-align: right;\n",
       "    }\n",
       "</style>\n",
       "<table border=\"1\" class=\"dataframe\">\n",
       "  <thead>\n",
       "    <tr style=\"text-align: right;\">\n",
       "      <th></th>\n",
       "      <th>DateCrawled</th>\n",
       "      <th>Price</th>\n",
       "      <th>VehicleType</th>\n",
       "      <th>RegistrationYear</th>\n",
       "      <th>Gearbox</th>\n",
       "      <th>Power</th>\n",
       "      <th>Model</th>\n",
       "      <th>Mileage</th>\n",
       "      <th>RegistrationMonth</th>\n",
       "      <th>FuelType</th>\n",
       "      <th>Brand</th>\n",
       "      <th>NotRepaired</th>\n",
       "      <th>DateCreated</th>\n",
       "      <th>NumberOfPictures</th>\n",
       "      <th>PostalCode</th>\n",
       "      <th>LastSeen</th>\n",
       "    </tr>\n",
       "  </thead>\n",
       "  <tbody>\n",
       "    <tr>\n",
       "      <th>count</th>\n",
       "      <td>354369</td>\n",
       "      <td>354369.000</td>\n",
       "      <td>316879</td>\n",
       "      <td>354369.000</td>\n",
       "      <td>334536</td>\n",
       "      <td>354369.000</td>\n",
       "      <td>334664</td>\n",
       "      <td>354369.000</td>\n",
       "      <td>354369.000</td>\n",
       "      <td>321474</td>\n",
       "      <td>354369</td>\n",
       "      <td>283215</td>\n",
       "      <td>354369</td>\n",
       "      <td>354369.000</td>\n",
       "      <td>354369.000</td>\n",
       "      <td>354369</td>\n",
       "    </tr>\n",
       "    <tr>\n",
       "      <th>unique</th>\n",
       "      <td>15470</td>\n",
       "      <td>NaN</td>\n",
       "      <td>8</td>\n",
       "      <td>NaN</td>\n",
       "      <td>2</td>\n",
       "      <td>NaN</td>\n",
       "      <td>250</td>\n",
       "      <td>NaN</td>\n",
       "      <td>NaN</td>\n",
       "      <td>7</td>\n",
       "      <td>40</td>\n",
       "      <td>2</td>\n",
       "      <td>109</td>\n",
       "      <td>NaN</td>\n",
       "      <td>NaN</td>\n",
       "      <td>18592</td>\n",
       "    </tr>\n",
       "    <tr>\n",
       "      <th>top</th>\n",
       "      <td>2016-05-03 14:25:00</td>\n",
       "      <td>NaN</td>\n",
       "      <td>sedan</td>\n",
       "      <td>NaN</td>\n",
       "      <td>manual</td>\n",
       "      <td>NaN</td>\n",
       "      <td>golf</td>\n",
       "      <td>NaN</td>\n",
       "      <td>NaN</td>\n",
       "      <td>petrol</td>\n",
       "      <td>volkswagen</td>\n",
       "      <td>no</td>\n",
       "      <td>2016-03-04 00:00:00</td>\n",
       "      <td>NaN</td>\n",
       "      <td>NaN</td>\n",
       "      <td>2016-07-04 07:16:00</td>\n",
       "    </tr>\n",
       "    <tr>\n",
       "      <th>freq</th>\n",
       "      <td>66</td>\n",
       "      <td>NaN</td>\n",
       "      <td>91457</td>\n",
       "      <td>NaN</td>\n",
       "      <td>268251</td>\n",
       "      <td>NaN</td>\n",
       "      <td>29232</td>\n",
       "      <td>NaN</td>\n",
       "      <td>NaN</td>\n",
       "      <td>216352</td>\n",
       "      <td>77013</td>\n",
       "      <td>247161</td>\n",
       "      <td>13719</td>\n",
       "      <td>NaN</td>\n",
       "      <td>NaN</td>\n",
       "      <td>654</td>\n",
       "    </tr>\n",
       "    <tr>\n",
       "      <th>first</th>\n",
       "      <td>2016-01-04 00:06:00</td>\n",
       "      <td>NaN</td>\n",
       "      <td>NaN</td>\n",
       "      <td>NaN</td>\n",
       "      <td>NaN</td>\n",
       "      <td>NaN</td>\n",
       "      <td>NaN</td>\n",
       "      <td>NaN</td>\n",
       "      <td>NaN</td>\n",
       "      <td>NaN</td>\n",
       "      <td>NaN</td>\n",
       "      <td>NaN</td>\n",
       "      <td>2014-10-03 00:00:00</td>\n",
       "      <td>NaN</td>\n",
       "      <td>NaN</td>\n",
       "      <td>2016-01-04 00:15:00</td>\n",
       "    </tr>\n",
       "    <tr>\n",
       "      <th>last</th>\n",
       "      <td>2016-12-03 23:59:00</td>\n",
       "      <td>NaN</td>\n",
       "      <td>NaN</td>\n",
       "      <td>NaN</td>\n",
       "      <td>NaN</td>\n",
       "      <td>NaN</td>\n",
       "      <td>NaN</td>\n",
       "      <td>NaN</td>\n",
       "      <td>NaN</td>\n",
       "      <td>NaN</td>\n",
       "      <td>NaN</td>\n",
       "      <td>NaN</td>\n",
       "      <td>2016-12-03 00:00:00</td>\n",
       "      <td>NaN</td>\n",
       "      <td>NaN</td>\n",
       "      <td>2016-12-03 23:54:00</td>\n",
       "    </tr>\n",
       "    <tr>\n",
       "      <th>mean</th>\n",
       "      <td>NaN</td>\n",
       "      <td>4416.657</td>\n",
       "      <td>NaN</td>\n",
       "      <td>2004.234</td>\n",
       "      <td>NaN</td>\n",
       "      <td>110.094</td>\n",
       "      <td>NaN</td>\n",
       "      <td>128211.173</td>\n",
       "      <td>5.715</td>\n",
       "      <td>NaN</td>\n",
       "      <td>NaN</td>\n",
       "      <td>NaN</td>\n",
       "      <td>NaN</td>\n",
       "      <td>0.000</td>\n",
       "      <td>50508.689</td>\n",
       "      <td>NaN</td>\n",
       "    </tr>\n",
       "    <tr>\n",
       "      <th>std</th>\n",
       "      <td>NaN</td>\n",
       "      <td>4514.159</td>\n",
       "      <td>NaN</td>\n",
       "      <td>90.228</td>\n",
       "      <td>NaN</td>\n",
       "      <td>189.850</td>\n",
       "      <td>NaN</td>\n",
       "      <td>37905.342</td>\n",
       "      <td>3.726</td>\n",
       "      <td>NaN</td>\n",
       "      <td>NaN</td>\n",
       "      <td>NaN</td>\n",
       "      <td>NaN</td>\n",
       "      <td>0.000</td>\n",
       "      <td>25783.096</td>\n",
       "      <td>NaN</td>\n",
       "    </tr>\n",
       "    <tr>\n",
       "      <th>min</th>\n",
       "      <td>NaN</td>\n",
       "      <td>0.000</td>\n",
       "      <td>NaN</td>\n",
       "      <td>1000.000</td>\n",
       "      <td>NaN</td>\n",
       "      <td>0.000</td>\n",
       "      <td>NaN</td>\n",
       "      <td>5000.000</td>\n",
       "      <td>0.000</td>\n",
       "      <td>NaN</td>\n",
       "      <td>NaN</td>\n",
       "      <td>NaN</td>\n",
       "      <td>NaN</td>\n",
       "      <td>0.000</td>\n",
       "      <td>1067.000</td>\n",
       "      <td>NaN</td>\n",
       "    </tr>\n",
       "    <tr>\n",
       "      <th>25%</th>\n",
       "      <td>NaN</td>\n",
       "      <td>1050.000</td>\n",
       "      <td>NaN</td>\n",
       "      <td>1999.000</td>\n",
       "      <td>NaN</td>\n",
       "      <td>69.000</td>\n",
       "      <td>NaN</td>\n",
       "      <td>125000.000</td>\n",
       "      <td>3.000</td>\n",
       "      <td>NaN</td>\n",
       "      <td>NaN</td>\n",
       "      <td>NaN</td>\n",
       "      <td>NaN</td>\n",
       "      <td>0.000</td>\n",
       "      <td>30165.000</td>\n",
       "      <td>NaN</td>\n",
       "    </tr>\n",
       "    <tr>\n",
       "      <th>50%</th>\n",
       "      <td>NaN</td>\n",
       "      <td>2700.000</td>\n",
       "      <td>NaN</td>\n",
       "      <td>2003.000</td>\n",
       "      <td>NaN</td>\n",
       "      <td>105.000</td>\n",
       "      <td>NaN</td>\n",
       "      <td>150000.000</td>\n",
       "      <td>6.000</td>\n",
       "      <td>NaN</td>\n",
       "      <td>NaN</td>\n",
       "      <td>NaN</td>\n",
       "      <td>NaN</td>\n",
       "      <td>0.000</td>\n",
       "      <td>49413.000</td>\n",
       "      <td>NaN</td>\n",
       "    </tr>\n",
       "    <tr>\n",
       "      <th>75%</th>\n",
       "      <td>NaN</td>\n",
       "      <td>6400.000</td>\n",
       "      <td>NaN</td>\n",
       "      <td>2008.000</td>\n",
       "      <td>NaN</td>\n",
       "      <td>143.000</td>\n",
       "      <td>NaN</td>\n",
       "      <td>150000.000</td>\n",
       "      <td>9.000</td>\n",
       "      <td>NaN</td>\n",
       "      <td>NaN</td>\n",
       "      <td>NaN</td>\n",
       "      <td>NaN</td>\n",
       "      <td>0.000</td>\n",
       "      <td>71083.000</td>\n",
       "      <td>NaN</td>\n",
       "    </tr>\n",
       "    <tr>\n",
       "      <th>max</th>\n",
       "      <td>NaN</td>\n",
       "      <td>20000.000</td>\n",
       "      <td>NaN</td>\n",
       "      <td>9999.000</td>\n",
       "      <td>NaN</td>\n",
       "      <td>20000.000</td>\n",
       "      <td>NaN</td>\n",
       "      <td>150000.000</td>\n",
       "      <td>12.000</td>\n",
       "      <td>NaN</td>\n",
       "      <td>NaN</td>\n",
       "      <td>NaN</td>\n",
       "      <td>NaN</td>\n",
       "      <td>0.000</td>\n",
       "      <td>99998.000</td>\n",
       "      <td>NaN</td>\n",
       "    </tr>\n",
       "  </tbody>\n",
       "</table>\n",
       "</div>"
      ],
      "text/plain": [
       "                DateCrawled      Price VehicleType  RegistrationYear Gearbox  \\\n",
       "count                354369 354369.000      316879        354369.000  334536   \n",
       "unique                15470        NaN           8               NaN       2   \n",
       "top     2016-05-03 14:25:00        NaN       sedan               NaN  manual   \n",
       "freq                     66        NaN       91457               NaN  268251   \n",
       "first   2016-01-04 00:06:00        NaN         NaN               NaN     NaN   \n",
       "last    2016-12-03 23:59:00        NaN         NaN               NaN     NaN   \n",
       "mean                    NaN   4416.657         NaN          2004.234     NaN   \n",
       "std                     NaN   4514.159         NaN            90.228     NaN   \n",
       "min                     NaN      0.000         NaN          1000.000     NaN   \n",
       "25%                     NaN   1050.000         NaN          1999.000     NaN   \n",
       "50%                     NaN   2700.000         NaN          2003.000     NaN   \n",
       "75%                     NaN   6400.000         NaN          2008.000     NaN   \n",
       "max                     NaN  20000.000         NaN          9999.000     NaN   \n",
       "\n",
       "            Power   Model    Mileage  RegistrationMonth FuelType       Brand  \\\n",
       "count  354369.000  334664 354369.000         354369.000   321474      354369   \n",
       "unique        NaN     250        NaN                NaN        7          40   \n",
       "top           NaN    golf        NaN                NaN   petrol  volkswagen   \n",
       "freq          NaN   29232        NaN                NaN   216352       77013   \n",
       "first         NaN     NaN        NaN                NaN      NaN         NaN   \n",
       "last          NaN     NaN        NaN                NaN      NaN         NaN   \n",
       "mean      110.094     NaN 128211.173              5.715      NaN         NaN   \n",
       "std       189.850     NaN  37905.342              3.726      NaN         NaN   \n",
       "min         0.000     NaN   5000.000              0.000      NaN         NaN   \n",
       "25%        69.000     NaN 125000.000              3.000      NaN         NaN   \n",
       "50%       105.000     NaN 150000.000              6.000      NaN         NaN   \n",
       "75%       143.000     NaN 150000.000              9.000      NaN         NaN   \n",
       "max     20000.000     NaN 150000.000             12.000      NaN         NaN   \n",
       "\n",
       "       NotRepaired          DateCreated  NumberOfPictures  PostalCode  \\\n",
       "count       283215               354369        354369.000  354369.000   \n",
       "unique           2                  109               NaN         NaN   \n",
       "top             no  2016-03-04 00:00:00               NaN         NaN   \n",
       "freq        247161                13719               NaN         NaN   \n",
       "first          NaN  2014-10-03 00:00:00               NaN         NaN   \n",
       "last           NaN  2016-12-03 00:00:00               NaN         NaN   \n",
       "mean           NaN                  NaN             0.000   50508.689   \n",
       "std            NaN                  NaN             0.000   25783.096   \n",
       "min            NaN                  NaN             0.000    1067.000   \n",
       "25%            NaN                  NaN             0.000   30165.000   \n",
       "50%            NaN                  NaN             0.000   49413.000   \n",
       "75%            NaN                  NaN             0.000   71083.000   \n",
       "max            NaN                  NaN             0.000   99998.000   \n",
       "\n",
       "                   LastSeen  \n",
       "count                354369  \n",
       "unique                18592  \n",
       "top     2016-07-04 07:16:00  \n",
       "freq                    654  \n",
       "first   2016-01-04 00:15:00  \n",
       "last    2016-12-03 23:54:00  \n",
       "mean                    NaN  \n",
       "std                     NaN  \n",
       "min                     NaN  \n",
       "25%                     NaN  \n",
       "50%                     NaN  \n",
       "75%                     NaN  \n",
       "max                     NaN  "
      ]
     },
     "execution_count": 6,
     "metadata": {},
     "output_type": "execute_result"
    }
   ],
   "source": [
    "df.describe(include='all')"
   ]
  },
  {
   "cell_type": "code",
   "execution_count": 7,
   "metadata": {},
   "outputs": [
    {
     "data": {
      "text/html": [
       "<div>\n",
       "<style scoped>\n",
       "    .dataframe tbody tr th:only-of-type {\n",
       "        vertical-align: middle;\n",
       "    }\n",
       "\n",
       "    .dataframe tbody tr th {\n",
       "        vertical-align: top;\n",
       "    }\n",
       "\n",
       "    .dataframe thead th {\n",
       "        text-align: right;\n",
       "    }\n",
       "</style>\n",
       "<table border=\"1\" class=\"dataframe\">\n",
       "  <thead>\n",
       "    <tr style=\"text-align: right;\">\n",
       "      <th></th>\n",
       "      <th>missing_values</th>\n",
       "      <th>% of total</th>\n",
       "    </tr>\n",
       "  </thead>\n",
       "  <tbody>\n",
       "    <tr>\n",
       "      <th>NotRepaired</th>\n",
       "      <td>71154</td>\n",
       "      <td>20.080</td>\n",
       "    </tr>\n",
       "    <tr>\n",
       "      <th>VehicleType</th>\n",
       "      <td>37490</td>\n",
       "      <td>10.580</td>\n",
       "    </tr>\n",
       "    <tr>\n",
       "      <th>FuelType</th>\n",
       "      <td>32895</td>\n",
       "      <td>9.280</td>\n",
       "    </tr>\n",
       "    <tr>\n",
       "      <th>Gearbox</th>\n",
       "      <td>19833</td>\n",
       "      <td>5.600</td>\n",
       "    </tr>\n",
       "    <tr>\n",
       "      <th>Model</th>\n",
       "      <td>19705</td>\n",
       "      <td>5.560</td>\n",
       "    </tr>\n",
       "  </tbody>\n",
       "</table>\n",
       "</div>"
      ],
      "text/plain": [
       "             missing_values  % of total\n",
       "NotRepaired           71154      20.080\n",
       "VehicleType           37490      10.580\n",
       "FuelType              32895       9.280\n",
       "Gearbox               19833       5.600\n",
       "Model                 19705       5.560"
      ]
     },
     "execution_count": 7,
     "metadata": {},
     "output_type": "execute_result"
    }
   ],
   "source": [
    "report = df.isna().sum().to_frame().rename(columns = {0: 'missing_values'})\n",
    "report = report[report['missing_values']>0]\n",
    "report['% of total'] = (report['missing_values'] / df.shape[0] * 100).round(2)\n",
    "report.sort_values(by = 'missing_values', ascending = False)"
   ]
  },
  {
   "cell_type": "code",
   "execution_count": 8,
   "metadata": {},
   "outputs": [],
   "source": [
    "#Model is one of the main features, and filling it doesn't make any sense, so drop\n",
    "\n",
    "df.dropna(subset=['Model'], inplace=True)"
   ]
  },
  {
   "cell_type": "code",
   "execution_count": 9,
   "metadata": {},
   "outputs": [],
   "source": [
    "#we can't fill NotRepaired in any meaningful way, so unknown\n",
    "\n",
    "df['NotRepaired'] = df['NotRepaired'].fillna('unknown')"
   ]
  },
  {
   "cell_type": "code",
   "execution_count": 10,
   "metadata": {},
   "outputs": [],
   "source": [
    "#VehicleType, FuelType and Gearbox could be filled with mode based on Model and RegistrationYear\n",
    "\n",
    "df['VehicleType'] = df['VehicleType'].fillna(df.groupby(['Model','RegistrationYear'])['VehicleType']\\\n",
    "                                             .transform(lambda x: next(iter(x.mode()), np.nan)))\n",
    "df['VehicleType'] = df['VehicleType'].fillna(df.groupby(['Model'])['VehicleType']\\\n",
    "                                             .transform(lambda x: next(iter(x.mode()), np.nan)))\n",
    "\n",
    "df['FuelType'] = df['FuelType'].fillna(df.groupby(['Model','RegistrationYear'])['FuelType']\\\n",
    "                                       .transform(lambda x: next(iter(x.mode()), np.nan)))\n",
    "df['FuelType'] = df['FuelType'].fillna(df.groupby(['Model'])['FuelType']\\\n",
    "                                       .transform(lambda x: next(iter(x.mode()), np.nan)))\n",
    "\n",
    "df['Gearbox'] = df['Gearbox'].fillna(df.groupby(['Model','RegistrationYear'])['Gearbox']\\\n",
    "                                     .transform(lambda x: next(iter(x.mode()), np.nan)))\n",
    "df['Gearbox'] = df['Gearbox'].fillna(df.groupby(['Model'])['Gearbox']\\\n",
    "                                     .transform(lambda x: next(iter(x.mode()), np.nan)))"
   ]
  },
  {
   "cell_type": "code",
   "execution_count": 11,
   "metadata": {},
   "outputs": [
    {
     "name": "stdout",
     "output_type": "stream",
     "text": [
      "Outliers in RegistrationYear: 4939 (1.48%)\n"
     ]
    }
   ],
   "source": [
    "#there are some strange values in RegistrationYear we better get rid of\n",
    "\n",
    "ageikr = df['RegistrationYear'].quantile(0.75) - df['RegistrationYear'].quantile(0.25)\n",
    "age_toohigh = df['RegistrationYear'].quantile(0.75) + 1.5 * ageikr\n",
    "age_toolow = df['RegistrationYear'].quantile(0.25) - 1.5 * ageikr\n",
    "\n",
    "wrong_age = df[(df['RegistrationYear'] < age_toolow) | (df['RegistrationYear'] > age_toohigh)].shape[0]\n",
    "print(f'Outliers in RegistrationYear: {wrong_age} ({(wrong_age / df.shape[0]):.2%})')\n",
    "\n",
    "df = df[(df['RegistrationYear'] >= age_toolow) & (df['RegistrationYear'] <= age_toohigh)]"
   ]
  },
  {
   "cell_type": "code",
   "execution_count": 12,
   "metadata": {},
   "outputs": [
    {
     "name": "stdout",
     "output_type": "stream",
     "text": [
      "Outliers in Power: 6753 (2.05%)\n"
     ]
    }
   ],
   "source": [
    "#there are some too large values in Power we better get rid of\n",
    "\n",
    "powerikr = df['Power'].quantile(0.75) - df['Power'].quantile(0.25)\n",
    "power_toohigh = df['Power'].quantile(0.75) + 1.5 * powerikr\n",
    "\n",
    "wrong_power = df[(df['Power'] > power_toohigh)].shape[0]\n",
    "print(f'Outliers in Power: {wrong_power} ({(wrong_power / df.shape[0]):.2%})')\n",
    "df = df[df['Power'] <= age_toohigh]"
   ]
  },
  {
   "cell_type": "code",
   "execution_count": 13,
   "metadata": {},
   "outputs": [],
   "source": [
    "#separate RegistrationMonth feature doesn't make much sense. \n",
    "#let's construct a Registration from year and month combined\n",
    "\n",
    "df['Registration'] = df['RegistrationYear'].astype(str) + '-' + df['RegistrationMonth'].astype(str)"
   ]
  },
  {
   "cell_type": "code",
   "execution_count": 14,
   "metadata": {},
   "outputs": [
    {
     "name": "stdout",
     "output_type": "stream",
     "text": [
      "Duplicates in car data: 264 (0.08%)\n"
     ]
    }
   ],
   "source": [
    "print(f'Duplicates in car data: {df.duplicated().sum()} ({(df.duplicated().sum() / df.shape[0]):.2%})')"
   ]
  },
  {
   "cell_type": "code",
   "execution_count": 15,
   "metadata": {},
   "outputs": [],
   "source": [
    "df.drop_duplicates(keep=False, inplace=True, ignore_index=True)"
   ]
  },
  {
   "cell_type": "code",
   "execution_count": 16,
   "metadata": {},
   "outputs": [],
   "source": [
    "df.drop(columns=['DateCrawled', 'RegistrationYear', 'RegistrationMonth', 'DateCreated', \\\n",
    "                 'NumberOfPictures', 'PostalCode', 'LastSeen'], inplace=True)"
   ]
  },
  {
   "cell_type": "code",
   "execution_count": 17,
   "metadata": {},
   "outputs": [
    {
     "name": "stdout",
     "output_type": "stream",
     "text": [
      "<class 'pandas.core.frame.DataFrame'>\n",
      "RangeIndex: 329104 entries, 0 to 329103\n",
      "Data columns (total 10 columns):\n",
      " #   Column        Non-Null Count   Dtype \n",
      "---  ------        --------------   ----- \n",
      " 0   Price         329104 non-null  int64 \n",
      " 1   VehicleType   329104 non-null  object\n",
      " 2   Gearbox       329104 non-null  object\n",
      " 3   Power         329104 non-null  int64 \n",
      " 4   Model         329104 non-null  object\n",
      " 5   Mileage       329104 non-null  int64 \n",
      " 6   FuelType      329104 non-null  object\n",
      " 7   Brand         329104 non-null  object\n",
      " 8   NotRepaired   329104 non-null  object\n",
      " 9   Registration  329104 non-null  object\n",
      "dtypes: int64(3), object(7)\n",
      "memory usage: 25.1+ MB\n"
     ]
    }
   ],
   "source": [
    "df.info()"
   ]
  },
  {
   "cell_type": "code",
   "execution_count": 18,
   "metadata": {},
   "outputs": [
    {
     "data": {
      "text/html": [
       "<div>\n",
       "<style scoped>\n",
       "    .dataframe tbody tr th:only-of-type {\n",
       "        vertical-align: middle;\n",
       "    }\n",
       "\n",
       "    .dataframe tbody tr th {\n",
       "        vertical-align: top;\n",
       "    }\n",
       "\n",
       "    .dataframe thead th {\n",
       "        text-align: right;\n",
       "    }\n",
       "</style>\n",
       "<table border=\"1\" class=\"dataframe\">\n",
       "  <thead>\n",
       "    <tr style=\"text-align: right;\">\n",
       "      <th></th>\n",
       "      <th>Price</th>\n",
       "      <th>VehicleType</th>\n",
       "      <th>Gearbox</th>\n",
       "      <th>Power</th>\n",
       "      <th>Model</th>\n",
       "      <th>Mileage</th>\n",
       "      <th>FuelType</th>\n",
       "      <th>Brand</th>\n",
       "      <th>NotRepaired</th>\n",
       "      <th>Registration</th>\n",
       "    </tr>\n",
       "  </thead>\n",
       "  <tbody>\n",
       "    <tr>\n",
       "      <th>223460</th>\n",
       "      <td>6900</td>\n",
       "      <td>convertible</td>\n",
       "      <td>manual</td>\n",
       "      <td>120</td>\n",
       "      <td>2_reihe</td>\n",
       "      <td>150000</td>\n",
       "      <td>petrol</td>\n",
       "      <td>peugeot</td>\n",
       "      <td>no</td>\n",
       "      <td>2007-3</td>\n",
       "    </tr>\n",
       "    <tr>\n",
       "      <th>234540</th>\n",
       "      <td>12500</td>\n",
       "      <td>suv</td>\n",
       "      <td>manual</td>\n",
       "      <td>140</td>\n",
       "      <td>touran</td>\n",
       "      <td>125000</td>\n",
       "      <td>gasoline</td>\n",
       "      <td>volkswagen</td>\n",
       "      <td>no</td>\n",
       "      <td>2008-0</td>\n",
       "    </tr>\n",
       "    <tr>\n",
       "      <th>9362</th>\n",
       "      <td>549</td>\n",
       "      <td>small</td>\n",
       "      <td>manual</td>\n",
       "      <td>75</td>\n",
       "      <td>other</td>\n",
       "      <td>150000</td>\n",
       "      <td>petrol</td>\n",
       "      <td>citroen</td>\n",
       "      <td>yes</td>\n",
       "      <td>1999-6</td>\n",
       "    </tr>\n",
       "    <tr>\n",
       "      <th>323409</th>\n",
       "      <td>5900</td>\n",
       "      <td>small</td>\n",
       "      <td>manual</td>\n",
       "      <td>87</td>\n",
       "      <td>corsa</td>\n",
       "      <td>60000</td>\n",
       "      <td>petrol</td>\n",
       "      <td>opel</td>\n",
       "      <td>no</td>\n",
       "      <td>2011-6</td>\n",
       "    </tr>\n",
       "    <tr>\n",
       "      <th>300471</th>\n",
       "      <td>17750</td>\n",
       "      <td>suv</td>\n",
       "      <td>auto</td>\n",
       "      <td>140</td>\n",
       "      <td>tiguan</td>\n",
       "      <td>125000</td>\n",
       "      <td>gasoline</td>\n",
       "      <td>volkswagen</td>\n",
       "      <td>no</td>\n",
       "      <td>2011-5</td>\n",
       "    </tr>\n",
       "    <tr>\n",
       "      <th>20930</th>\n",
       "      <td>700</td>\n",
       "      <td>sedan</td>\n",
       "      <td>manual</td>\n",
       "      <td>75</td>\n",
       "      <td>golf</td>\n",
       "      <td>150000</td>\n",
       "      <td>petrol</td>\n",
       "      <td>volkswagen</td>\n",
       "      <td>no</td>\n",
       "      <td>1998-10</td>\n",
       "    </tr>\n",
       "    <tr>\n",
       "      <th>224714</th>\n",
       "      <td>1900</td>\n",
       "      <td>wagon</td>\n",
       "      <td>manual</td>\n",
       "      <td>116</td>\n",
       "      <td>passat</td>\n",
       "      <td>150000</td>\n",
       "      <td>gasoline</td>\n",
       "      <td>volkswagen</td>\n",
       "      <td>no</td>\n",
       "      <td>1999-1</td>\n",
       "    </tr>\n",
       "    <tr>\n",
       "      <th>257194</th>\n",
       "      <td>800</td>\n",
       "      <td>wagon</td>\n",
       "      <td>auto</td>\n",
       "      <td>150</td>\n",
       "      <td>a4</td>\n",
       "      <td>150000</td>\n",
       "      <td>petrol</td>\n",
       "      <td>audi</td>\n",
       "      <td>yes</td>\n",
       "      <td>1998-10</td>\n",
       "    </tr>\n",
       "    <tr>\n",
       "      <th>202829</th>\n",
       "      <td>130</td>\n",
       "      <td>sedan</td>\n",
       "      <td>auto</td>\n",
       "      <td>0</td>\n",
       "      <td>e_klasse</td>\n",
       "      <td>5000</td>\n",
       "      <td>gasoline</td>\n",
       "      <td>mercedes_benz</td>\n",
       "      <td>unknown</td>\n",
       "      <td>2012-0</td>\n",
       "    </tr>\n",
       "    <tr>\n",
       "      <th>16144</th>\n",
       "      <td>19995</td>\n",
       "      <td>bus</td>\n",
       "      <td>auto</td>\n",
       "      <td>170</td>\n",
       "      <td>touran</td>\n",
       "      <td>80000</td>\n",
       "      <td>gasoline</td>\n",
       "      <td>volkswagen</td>\n",
       "      <td>no</td>\n",
       "      <td>2012-4</td>\n",
       "    </tr>\n",
       "  </tbody>\n",
       "</table>\n",
       "</div>"
      ],
      "text/plain": [
       "        Price  VehicleType Gearbox  Power     Model  Mileage  FuelType  \\\n",
       "223460   6900  convertible  manual    120   2_reihe   150000    petrol   \n",
       "234540  12500          suv  manual    140    touran   125000  gasoline   \n",
       "9362      549        small  manual     75     other   150000    petrol   \n",
       "323409   5900        small  manual     87     corsa    60000    petrol   \n",
       "300471  17750          suv    auto    140    tiguan   125000  gasoline   \n",
       "20930     700        sedan  manual     75      golf   150000    petrol   \n",
       "224714   1900        wagon  manual    116    passat   150000  gasoline   \n",
       "257194    800        wagon    auto    150        a4   150000    petrol   \n",
       "202829    130        sedan    auto      0  e_klasse     5000  gasoline   \n",
       "16144   19995          bus    auto    170    touran    80000  gasoline   \n",
       "\n",
       "                Brand NotRepaired Registration  \n",
       "223460        peugeot          no       2007-3  \n",
       "234540     volkswagen          no       2008-0  \n",
       "9362          citroen         yes       1999-6  \n",
       "323409           opel          no       2011-6  \n",
       "300471     volkswagen          no       2011-5  \n",
       "20930      volkswagen          no      1998-10  \n",
       "224714     volkswagen          no       1999-1  \n",
       "257194           audi         yes      1998-10  \n",
       "202829  mercedes_benz     unknown       2012-0  \n",
       "16144      volkswagen          no       2012-4  "
      ]
     },
     "execution_count": 18,
     "metadata": {},
     "output_type": "execute_result"
    }
   ],
   "source": [
    "df.sample(10)"
   ]
  },
  {
   "cell_type": "markdown",
   "metadata": {},
   "source": [
    "**Conclusion**  \n",
    "There are some missing values in this dataset. Therefore, we dropped the entries with missing `Model`, filled in `NotRepaired` with 'unknown' and filled `VehicleType`, `FuelType` and `Gearbox` with a mode based on Model and RegistrationYear.\n",
    "\n",
    "We dropped some outliers from `RegistrationYear` (1.48%) and `Power` (2.05%) features.\n",
    "\n",
    "We had 0.08% of duplicates to drop.\n",
    "\n",
    "Also, having a separate `RegistrationMonth` feature isn't very helpful, so we constructed a `Registration` feature from `RegistrationYear` and `RegistrationMonth` combined.\n",
    "\n",
    "And finally, we dropped `DateCrawled`, `DateCreated`, `NumberOfPictures`, `PostalCode`, and `LastSeen` since they are not about the vehicle but about the advert and could not affect the price."
   ]
  },
  {
   "cell_type": "markdown",
   "metadata": {},
   "source": [
    "## Model training"
   ]
  },
  {
   "cell_type": "code",
   "execution_count": 19,
   "metadata": {},
   "outputs": [],
   "source": [
    "X_train, X_test, y_train, y_test = train_test_split(\n",
    "    df.drop('Price', axis=1), df['Price'], test_size=0.25, random_state=42\n",
    ")"
   ]
  },
  {
   "cell_type": "code",
   "execution_count": 20,
   "metadata": {},
   "outputs": [],
   "source": [
    "#making a dataset with categorical features for CatBoost and LGBM\n",
    "\n",
    "X_train_cat = X_train.copy()\n",
    "X_test_cat = X_test.copy()\n",
    "for col in X_train_cat.select_dtypes(include=['object']):\n",
    "    X_train_cat[col] = X_train_cat[col].astype('category')\n",
    "for col in X_test_cat.select_dtypes(include=['object']):\n",
    "    X_test_cat[col] = X_test_cat[col].astype('category')    \n",
    "    \n",
    "cat_features = X_train_cat.select_dtypes(include=['category']).columns.values    "
   ]
  },
  {
   "cell_type": "code",
   "execution_count": 21,
   "metadata": {},
   "outputs": [],
   "source": [
    "def rmse_func(y_true, y_pred):\n",
    "    return mean_squared_error(y_true, y_pred) ** 0.5\n",
    "\n",
    "rmse = make_scorer(rmse_func, greater_is_better=False)\n",
    "\n",
    "def fit_score(model, pref, name, params):\n",
    "    start = time.time()\n",
    "    if pref == 'lr':\n",
    "        pipe = Pipeline([('encoder', BinaryEncoder()), ('scaler', MinMaxScaler()), (pref, model)])\n",
    "        model = GridSearchCV(pipe, param_grid=params, cv=5, scoring=rmse, verbose=0, refit=True)\n",
    "        model.fit(X_train, y_train)\n",
    "        score = abs(model.best_score_)\n",
    "        best_params = model.best_params_\n",
    "    elif pref == 'rf':\n",
    "        pipe = Pipeline([('encoder', OrdinalEncoder()), ('scaler', MinMaxScaler()), (pref, model)])\n",
    "        model = GridSearchCV(pipe, param_grid=params, cv=5, scoring=rmse, verbose=0, refit=True)\n",
    "        model.fit(X_train, y_train)\n",
    "        score = abs(model.best_score_)\n",
    "        best_params = model.best_params_\n",
    "    elif pref == 'cb':\n",
    "        grid_search_result = model.grid_search(params, X=Pool(X_train_cat, y_train, cat_features=cat_features))\n",
    "        score = abs(model.get_best_score()['learn']['RMSE'])\n",
    "        best_params = grid_search_result['params']\n",
    "    else:\n",
    "        pipe = Pipeline([(pref, model)])\n",
    "        model = GridSearchCV(pipe, param_grid=params, cv=5, scoring=rmse, verbose=0, refit=True)\n",
    "        model.fit(X_train_cat, y_train)\n",
    "        score = abs(model.best_score_)\n",
    "        best_params = model.best_params_\n",
    "    end = time.time()\n",
    "    diff = end - start\n",
    "    return pd.DataFrame([[name, score, diff, best_params]], \\\n",
    "                        columns=['Estimator', 'Best Score', 'Time', 'Params'])\n"
   ]
  },
  {
   "cell_type": "code",
   "execution_count": 22,
   "metadata": {},
   "outputs": [
    {
     "name": "stdout",
     "output_type": "stream",
     "text": [
      "CPU times: user 18.4 s, sys: 3.56 s, total: 22 s\n",
      "Wall time: 17.1 s\n"
     ]
    }
   ],
   "source": [
    "%%time\n",
    "LinearRegressor = fit_score(LinearRegression(), 'lr', 'Linear Regressor', {})"
   ]
  },
  {
   "cell_type": "code",
   "execution_count": 23,
   "metadata": {},
   "outputs": [
    {
     "name": "stdout",
     "output_type": "stream",
     "text": [
      "CPU times: user 2min 11s, sys: 5.16 s, total: 2min 16s\n",
      "Wall time: 2min 16s\n"
     ]
    }
   ],
   "source": [
    "%%time\n",
    "RandomForest = fit_score(RandomForestRegressor(random_state=42), 'rf', 'Random Forest',\n",
    "                       {'rf__n_estimators': [5, 10],\n",
    "                        'rf__max_depth': [3, 5],\n",
    "                        'rf__min_impurity_decrease': [0.05, 0.25, 0.1]})"
   ]
  },
  {
   "cell_type": "code",
   "execution_count": 24,
   "metadata": {},
   "outputs": [
    {
     "name": "stdout",
     "output_type": "stream",
     "text": [
      "\n",
      "bestTest = 4467.028606\n",
      "bestIteration = 49\n",
      "\n",
      "0:\tloss: 4467.0286060\tbest: 4467.0286060 (0)\ttotal: 2.11s\tremaining: 4.21s\n",
      "\n",
      "bestTest = 2187.248425\n",
      "bestIteration = 49\n",
      "\n",
      "1:\tloss: 2187.2484252\tbest: 2187.2484252 (1)\ttotal: 4.36s\tremaining: 2.18s\n",
      "\n",
      "bestTest = 1889.202563\n",
      "bestIteration = 49\n",
      "\n",
      "2:\tloss: 1889.2025630\tbest: 1889.2025630 (2)\ttotal: 6.66s\tremaining: 0us\n",
      "Estimating final quality...\n",
      "Training on fold [0/3]\n",
      "\n",
      "bestTest = 1884.493571\n",
      "bestIteration = 49\n",
      "\n",
      "Training on fold [1/3]\n",
      "\n",
      "bestTest = 1879.948526\n",
      "bestIteration = 49\n",
      "\n",
      "Training on fold [2/3]\n",
      "\n",
      "bestTest = 1893.619184\n",
      "bestIteration = 49\n",
      "\n",
      "CPU times: user 1min 25s, sys: 5.11 s, total: 1min 30s\n",
      "Wall time: 14.9 s\n"
     ]
    }
   ],
   "source": [
    "%%time\n",
    "CatBoost = fit_score(CatBoostRegressor(random_seed=42, silent=True, loss_function='RMSE'), 'cb', 'Cat Boost',\n",
    "                       {'iterations': [50],\n",
    "                        'depth': [10],\n",
    "                        'learning_rate': [0.01, 0.05, 0.1],})"
   ]
  },
  {
   "cell_type": "code",
   "execution_count": 25,
   "metadata": {},
   "outputs": [
    {
     "name": "stdout",
     "output_type": "stream",
     "text": [
      "CPU times: user 57.4 s, sys: 5.9 s, total: 1min 3s\n",
      "Wall time: 9.34 s\n"
     ]
    }
   ],
   "source": [
    "%%time\n",
    "LGBM = fit_score(LGBMRegressor(random_seed = 42), 'lgbm', 'LGBM',\n",
    "                       {'lgbm__max_depth':[3],\n",
    "                        'lgbm__num_leaves' : [5, 11],\n",
    "                        'lgbm__learning_rate': [0.1, 1],\n",
    "                        'lgbm__n_estimators': [50]})"
   ]
  },
  {
   "cell_type": "code",
   "execution_count": 26,
   "metadata": {},
   "outputs": [
    {
     "data": {
      "text/html": [
       "<style type=\"text/css\">\n",
       "</style>\n",
       "<table id=\"T_0106a\">\n",
       "  <thead>\n",
       "    <tr>\n",
       "      <th id=\"T_0106a_level0_col0\" class=\"col_heading level0 col0\" >Estimator</th>\n",
       "      <th id=\"T_0106a_level0_col1\" class=\"col_heading level0 col1\" >Best Score</th>\n",
       "      <th id=\"T_0106a_level0_col2\" class=\"col_heading level0 col2\" >Time</th>\n",
       "      <th id=\"T_0106a_level0_col3\" class=\"col_heading level0 col3\" >Params</th>\n",
       "    </tr>\n",
       "  </thead>\n",
       "  <tbody>\n",
       "    <tr>\n",
       "      <td id=\"T_0106a_row0_col0\" class=\"data row0 col0\" >Linear Regressor</td>\n",
       "      <td id=\"T_0106a_row0_col1\" class=\"data row0 col1\" >3223.459721</td>\n",
       "      <td id=\"T_0106a_row0_col2\" class=\"data row0 col2\" >17.047784</td>\n",
       "      <td id=\"T_0106a_row0_col3\" class=\"data row0 col3\" >{}</td>\n",
       "    </tr>\n",
       "    <tr>\n",
       "      <td id=\"T_0106a_row1_col0\" class=\"data row1 col0\" >Random Forest</td>\n",
       "      <td id=\"T_0106a_row1_col1\" class=\"data row1 col1\" >2925.622575</td>\n",
       "      <td id=\"T_0106a_row1_col2\" class=\"data row1 col2\" >136.169318</td>\n",
       "      <td id=\"T_0106a_row1_col3\" class=\"data row1 col3\" >{'rf__max_depth': 5, 'rf__min_impurity_decrease': 0.05, 'rf__n_estimators': 10}</td>\n",
       "    </tr>\n",
       "    <tr>\n",
       "      <td id=\"T_0106a_row2_col0\" class=\"data row2 col0\" >Cat Boost</td>\n",
       "      <td id=\"T_0106a_row2_col1\" class=\"data row2 col1\" >1825.110312</td>\n",
       "      <td id=\"T_0106a_row2_col2\" class=\"data row2 col2\" >14.910052</td>\n",
       "      <td id=\"T_0106a_row2_col3\" class=\"data row2 col3\" >{'depth': 10, 'iterations': 50, 'learning_rate': 0.1}</td>\n",
       "    </tr>\n",
       "    <tr>\n",
       "      <td id=\"T_0106a_row3_col0\" class=\"data row3 col0\" >LGBM</td>\n",
       "      <td id=\"T_0106a_row3_col1\" class=\"data row3 col1\" >1952.282805</td>\n",
       "      <td id=\"T_0106a_row3_col2\" class=\"data row3 col2\" >9.340586</td>\n",
       "      <td id=\"T_0106a_row3_col3\" class=\"data row3 col3\" >{'lgbm__learning_rate': 1, 'lgbm__max_depth': 3, 'lgbm__n_estimators': 50, 'lgbm__num_leaves': 11}</td>\n",
       "    </tr>\n",
       "  </tbody>\n",
       "</table>\n"
      ],
      "text/plain": [
       "<pandas.io.formats.style.Styler at 0x12bb52f40>"
      ]
     },
     "execution_count": 26,
     "metadata": {},
     "output_type": "execute_result"
    }
   ],
   "source": [
    "scores = pd.concat([LinearRegressor, RandomForest, CatBoost, LGBM]).reset_index(drop=True)\n",
    "scores.style.hide_index()"
   ]
  },
  {
   "cell_type": "markdown",
   "metadata": {},
   "source": [
    "**Conclusion**  \n",
    "We tried to train several different models using the RMSE score and GridSearchCV to look for the best hyperparameters. The lower the RMSE, the better is the model, so our best is the CatBoost Regressor."
   ]
  },
  {
   "cell_type": "markdown",
   "metadata": {},
   "source": [
    "## Model analysis"
   ]
  },
  {
   "cell_type": "code",
   "execution_count": 27,
   "metadata": {},
   "outputs": [
    {
     "name": "stdout",
     "output_type": "stream",
     "text": [
      "RMSE score for best CatBoostRegressor model on test dataframe: 1858.45\n"
     ]
    }
   ],
   "source": [
    "final_model = CatBoostRegressor(random_seed=42, silent=True, loss_function='RMSE',\\\n",
    "                                **scores[scores['Estimator']=='Cat Boost']['Params'].values[0])\n",
    "final_model.fit(X=Pool(X_train_cat, y_train, cat_features=cat_features))\n",
    "\n",
    "cb_rmse = rmse_func(y_test, final_model.predict(X_test_cat))\n",
    "print(f'RMSE score for best CatBoostRegressor model on test dataframe: {cb_rmse:.2f}')"
   ]
  },
  {
   "cell_type": "markdown",
   "metadata": {},
   "source": [
    "**Conclusion** \n",
    "We explored several models using the RMSE score and GridSearchCV to look for the best hyperparameters. CatBoost Regressor shows not only the best score but is training faster than Random Forest or LGBM models."
   ]
  }
 ],
 "metadata": {
  "ExecuteTimeLog": [
   {
    "duration": 15,
    "start_time": "2022-05-30T16:08:33.435Z"
   },
   {
    "duration": 13233,
    "start_time": "2022-05-30T16:08:33.453Z"
   },
   {
    "duration": 535,
    "start_time": "2022-05-30T16:08:46.688Z"
   },
   {
    "duration": 0,
    "start_time": "2022-05-30T16:08:47.227Z"
   },
   {
    "duration": 0,
    "start_time": "2022-05-30T16:08:47.228Z"
   },
   {
    "duration": 0,
    "start_time": "2022-05-30T16:08:47.230Z"
   },
   {
    "duration": 0,
    "start_time": "2022-05-30T16:08:47.231Z"
   },
   {
    "duration": 0,
    "start_time": "2022-05-30T16:08:47.233Z"
   },
   {
    "duration": 0,
    "start_time": "2022-05-30T16:08:47.235Z"
   },
   {
    "duration": 0,
    "start_time": "2022-05-30T16:08:47.236Z"
   },
   {
    "duration": 0,
    "start_time": "2022-05-30T16:08:47.238Z"
   },
   {
    "duration": 0,
    "start_time": "2022-05-30T16:08:47.240Z"
   },
   {
    "duration": 0,
    "start_time": "2022-05-30T16:08:47.241Z"
   },
   {
    "duration": 0,
    "start_time": "2022-05-30T16:08:47.243Z"
   },
   {
    "duration": 0,
    "start_time": "2022-05-30T16:08:47.244Z"
   },
   {
    "duration": 0,
    "start_time": "2022-05-30T16:08:47.246Z"
   },
   {
    "duration": 0,
    "start_time": "2022-05-30T16:08:47.247Z"
   },
   {
    "duration": 0,
    "start_time": "2022-05-30T16:08:47.248Z"
   },
   {
    "duration": 0,
    "start_time": "2022-05-30T16:08:47.249Z"
   },
   {
    "duration": 0,
    "start_time": "2022-05-30T16:08:47.250Z"
   },
   {
    "duration": 0,
    "start_time": "2022-05-30T16:08:47.252Z"
   },
   {
    "duration": 0,
    "start_time": "2022-05-30T16:08:47.253Z"
   },
   {
    "duration": 0,
    "start_time": "2022-05-30T16:08:47.255Z"
   },
   {
    "duration": 0,
    "start_time": "2022-05-30T16:08:47.299Z"
   },
   {
    "duration": 0,
    "start_time": "2022-05-30T16:08:47.300Z"
   },
   {
    "duration": 0,
    "start_time": "2022-05-30T16:08:47.307Z"
   },
   {
    "duration": 0,
    "start_time": "2022-05-30T16:08:47.308Z"
   },
   {
    "duration": 7170,
    "start_time": "2022-05-30T16:13:57.715Z"
   },
   {
    "duration": 138,
    "start_time": "2022-05-30T16:14:15.417Z"
   },
   {
    "duration": 7219,
    "start_time": "2022-05-30T16:14:33.224Z"
   },
   {
    "duration": 12,
    "start_time": "2022-05-30T16:14:53.276Z"
   },
   {
    "duration": 15,
    "start_time": "2022-05-30T16:15:06.544Z"
   },
   {
    "duration": 7590,
    "start_time": "2022-05-30T16:15:06.562Z"
   },
   {
    "duration": 1167,
    "start_time": "2022-05-30T16:15:14.154Z"
   },
   {
    "duration": 3,
    "start_time": "2022-05-30T16:15:15.322Z"
   },
   {
    "duration": 49001,
    "start_time": "2022-05-30T16:15:15.327Z"
   },
   {
    "duration": 94,
    "start_time": "2022-05-30T16:16:04.330Z"
   },
   {
    "duration": 417,
    "start_time": "2022-05-30T16:16:04.426Z"
   },
   {
    "duration": 108,
    "start_time": "2022-05-30T16:16:04.845Z"
   },
   {
    "duration": 65,
    "start_time": "2022-05-30T16:16:04.955Z"
   },
   {
    "duration": 21,
    "start_time": "2022-05-30T16:16:05.023Z"
   },
   {
    "duration": 5423,
    "start_time": "2022-05-30T16:16:05.047Z"
   },
   {
    "duration": 79,
    "start_time": "2022-05-30T16:16:10.472Z"
   },
   {
    "duration": 73,
    "start_time": "2022-05-30T16:16:10.553Z"
   },
   {
    "duration": 519,
    "start_time": "2022-05-30T16:16:10.628Z"
   },
   {
    "duration": 440,
    "start_time": "2022-05-30T16:16:11.148Z"
   },
   {
    "duration": 283,
    "start_time": "2022-05-30T16:16:11.589Z"
   },
   {
    "duration": 38,
    "start_time": "2022-05-30T16:16:11.874Z"
   },
   {
    "duration": 113,
    "start_time": "2022-05-30T16:16:11.920Z"
   },
   {
    "duration": 18,
    "start_time": "2022-05-30T16:16:12.035Z"
   },
   {
    "duration": 133,
    "start_time": "2022-05-30T16:16:12.055Z"
   },
   {
    "duration": 5,
    "start_time": "2022-05-30T16:16:12.189Z"
   },
   {
    "duration": 24524,
    "start_time": "2022-05-30T16:16:12.195Z"
   },
   {
    "duration": 182241,
    "start_time": "2022-05-30T16:16:36.722Z"
   },
   {
    "duration": 207277,
    "start_time": "2022-05-30T16:19:38.965Z"
   },
   {
    "duration": 21,
    "start_time": "2022-05-30T16:40:01.588Z"
   },
   {
    "duration": 7332,
    "start_time": "2022-05-30T16:40:01.611Z"
   },
   {
    "duration": 1209,
    "start_time": "2022-05-30T16:40:08.945Z"
   },
   {
    "duration": 3,
    "start_time": "2022-05-30T16:40:10.156Z"
   },
   {
    "duration": 48917,
    "start_time": "2022-05-30T16:40:10.161Z"
   },
   {
    "duration": 101,
    "start_time": "2022-05-30T16:40:59.080Z"
   },
   {
    "duration": 421,
    "start_time": "2022-05-30T16:40:59.183Z"
   },
   {
    "duration": 103,
    "start_time": "2022-05-30T16:40:59.618Z"
   },
   {
    "duration": 52,
    "start_time": "2022-05-30T16:40:59.722Z"
   },
   {
    "duration": 42,
    "start_time": "2022-05-30T16:40:59.776Z"
   },
   {
    "duration": 5700,
    "start_time": "2022-05-30T16:40:59.820Z"
   },
   {
    "duration": 62,
    "start_time": "2022-05-30T16:41:05.522Z"
   },
   {
    "duration": 69,
    "start_time": "2022-05-30T16:41:05.585Z"
   },
   {
    "duration": 499,
    "start_time": "2022-05-30T16:41:05.658Z"
   },
   {
    "duration": 492,
    "start_time": "2022-05-30T16:41:06.159Z"
   },
   {
    "duration": 293,
    "start_time": "2022-05-30T16:41:06.653Z"
   },
   {
    "duration": 26,
    "start_time": "2022-05-30T16:41:06.947Z"
   },
   {
    "duration": 108,
    "start_time": "2022-05-30T16:41:06.974Z"
   },
   {
    "duration": 39,
    "start_time": "2022-05-30T16:41:07.084Z"
   },
   {
    "duration": 130,
    "start_time": "2022-05-30T16:41:07.125Z"
   },
   {
    "duration": 7,
    "start_time": "2022-05-30T16:41:07.257Z"
   },
   {
    "duration": 25866,
    "start_time": "2022-05-30T16:41:07.266Z"
   },
   {
    "duration": 185175,
    "start_time": "2022-05-30T16:41:33.200Z"
   },
   {
    "duration": 217000,
    "start_time": "2022-05-30T16:44:38.377Z"
   },
   {
    "duration": 14,
    "start_time": "2022-05-30T17:17:40.252Z"
   },
   {
    "duration": 7126,
    "start_time": "2022-05-30T17:17:40.268Z"
   },
   {
    "duration": 1148,
    "start_time": "2022-05-30T17:17:47.396Z"
   },
   {
    "duration": 3,
    "start_time": "2022-05-30T17:17:48.545Z"
   },
   {
    "duration": 50132,
    "start_time": "2022-05-30T17:17:48.550Z"
   },
   {
    "duration": 106,
    "start_time": "2022-05-30T17:18:38.684Z"
   },
   {
    "duration": 382,
    "start_time": "2022-05-30T17:18:38.792Z"
   },
   {
    "duration": 108,
    "start_time": "2022-05-30T17:18:39.176Z"
   },
   {
    "duration": 73,
    "start_time": "2022-05-30T17:18:39.286Z"
   },
   {
    "duration": 20,
    "start_time": "2022-05-30T17:18:39.360Z"
   },
   {
    "duration": 5296,
    "start_time": "2022-05-30T17:18:39.382Z"
   },
   {
    "duration": 64,
    "start_time": "2022-05-30T17:18:44.680Z"
   },
   {
    "duration": 65,
    "start_time": "2022-05-30T17:18:44.745Z"
   },
   {
    "duration": 552,
    "start_time": "2022-05-30T17:18:44.812Z"
   },
   {
    "duration": 478,
    "start_time": "2022-05-30T17:18:45.366Z"
   },
   {
    "duration": 314,
    "start_time": "2022-05-30T17:18:45.845Z"
   },
   {
    "duration": 23,
    "start_time": "2022-05-30T17:18:46.160Z"
   },
   {
    "duration": 118,
    "start_time": "2022-05-30T17:18:46.185Z"
   },
   {
    "duration": 23,
    "start_time": "2022-05-30T17:18:46.316Z"
   },
   {
    "duration": 131,
    "start_time": "2022-05-30T17:18:46.341Z"
   },
   {
    "duration": 5,
    "start_time": "2022-05-30T17:18:46.474Z"
   },
   {
    "duration": 24740,
    "start_time": "2022-05-30T17:18:46.480Z"
   },
   {
    "duration": 182056,
    "start_time": "2022-05-30T17:19:11.227Z"
   },
   {
    "duration": 214669,
    "start_time": "2022-05-30T17:22:13.285Z"
   },
   {
    "duration": 13,
    "start_time": "2022-05-30T17:35:33.957Z"
   },
   {
    "duration": 6749,
    "start_time": "2022-05-30T17:35:33.971Z"
   },
   {
    "duration": 1180,
    "start_time": "2022-05-30T17:35:40.723Z"
   },
   {
    "duration": 7,
    "start_time": "2022-05-30T17:35:41.905Z"
   },
   {
    "duration": 47901,
    "start_time": "2022-05-30T17:35:41.915Z"
   },
   {
    "duration": 95,
    "start_time": "2022-05-30T17:36:29.818Z"
   },
   {
    "duration": 407,
    "start_time": "2022-05-30T17:36:29.915Z"
   },
   {
    "duration": 102,
    "start_time": "2022-05-30T17:36:30.324Z"
   },
   {
    "duration": 54,
    "start_time": "2022-05-30T17:36:30.428Z"
   },
   {
    "duration": 31,
    "start_time": "2022-05-30T17:36:30.484Z"
   },
   {
    "duration": 5207,
    "start_time": "2022-05-30T17:36:30.517Z"
   },
   {
    "duration": 61,
    "start_time": "2022-05-30T17:36:35.725Z"
   },
   {
    "duration": 72,
    "start_time": "2022-05-30T17:36:35.788Z"
   },
   {
    "duration": 428,
    "start_time": "2022-05-30T17:36:35.862Z"
   },
   {
    "duration": 444,
    "start_time": "2022-05-30T17:36:36.292Z"
   },
   {
    "duration": 294,
    "start_time": "2022-05-30T17:36:36.738Z"
   },
   {
    "duration": 25,
    "start_time": "2022-05-30T17:36:37.033Z"
   },
   {
    "duration": 93,
    "start_time": "2022-05-30T17:36:37.060Z"
   },
   {
    "duration": 18,
    "start_time": "2022-05-30T17:36:37.154Z"
   },
   {
    "duration": 146,
    "start_time": "2022-05-30T17:36:37.173Z"
   },
   {
    "duration": 6,
    "start_time": "2022-05-30T17:36:37.320Z"
   },
   {
    "duration": 23188,
    "start_time": "2022-05-30T17:36:37.327Z"
   },
   {
    "duration": 180850,
    "start_time": "2022-05-30T17:37:00.516Z"
   },
   {
    "duration": 14,
    "start_time": "2022-05-30T17:44:20.513Z"
   },
   {
    "duration": 7200,
    "start_time": "2022-05-30T17:44:20.529Z"
   },
   {
    "duration": 1197,
    "start_time": "2022-05-30T17:44:27.732Z"
   },
   {
    "duration": 3,
    "start_time": "2022-05-30T17:44:28.930Z"
   },
   {
    "duration": 48599,
    "start_time": "2022-05-30T17:44:28.936Z"
   },
   {
    "duration": 90,
    "start_time": "2022-05-30T17:45:17.536Z"
   },
   {
    "duration": 388,
    "start_time": "2022-05-30T17:45:17.628Z"
   },
   {
    "duration": 100,
    "start_time": "2022-05-30T17:45:18.017Z"
   },
   {
    "duration": 54,
    "start_time": "2022-05-30T17:45:18.118Z"
   },
   {
    "duration": 38,
    "start_time": "2022-05-30T17:45:18.174Z"
   },
   {
    "duration": 5738,
    "start_time": "2022-05-30T17:45:18.213Z"
   },
   {
    "duration": 70,
    "start_time": "2022-05-30T17:45:23.953Z"
   },
   {
    "duration": 57,
    "start_time": "2022-05-30T17:45:24.025Z"
   },
   {
    "duration": 467,
    "start_time": "2022-05-30T17:45:24.084Z"
   },
   {
    "duration": 476,
    "start_time": "2022-05-30T17:45:24.553Z"
   },
   {
    "duration": 309,
    "start_time": "2022-05-30T17:45:25.031Z"
   },
   {
    "duration": 23,
    "start_time": "2022-05-30T17:45:25.342Z"
   },
   {
    "duration": 102,
    "start_time": "2022-05-30T17:45:25.367Z"
   },
   {
    "duration": 31,
    "start_time": "2022-05-30T17:45:25.471Z"
   },
   {
    "duration": 130,
    "start_time": "2022-05-30T17:45:25.505Z"
   },
   {
    "duration": 5,
    "start_time": "2022-05-30T17:45:25.636Z"
   },
   {
    "duration": 23874,
    "start_time": "2022-05-30T17:45:25.643Z"
   },
   {
    "duration": 554739,
    "start_time": "2022-05-30T17:45:49.523Z"
   },
   {
    "duration": 251905,
    "start_time": "2022-05-30T17:55:04.264Z"
   },
   {
    "duration": 931051,
    "start_time": "2022-05-30T17:59:16.170Z"
   },
   {
    "duration": 411,
    "start_time": "2022-05-30T18:14:47.223Z"
   },
   {
    "duration": 13,
    "start_time": "2022-05-30T18:17:46.873Z"
   },
   {
    "duration": 7153,
    "start_time": "2022-05-30T18:17:46.888Z"
   },
   {
    "duration": 1169,
    "start_time": "2022-05-30T18:17:54.043Z"
   },
   {
    "duration": 4,
    "start_time": "2022-05-30T18:17:55.214Z"
   },
   {
    "duration": 47998,
    "start_time": "2022-05-30T18:17:55.219Z"
   },
   {
    "duration": 96,
    "start_time": "2022-05-30T18:18:43.218Z"
   },
   {
    "duration": 372,
    "start_time": "2022-05-30T18:18:43.316Z"
   },
   {
    "duration": 91,
    "start_time": "2022-05-30T18:18:43.689Z"
   },
   {
    "duration": 83,
    "start_time": "2022-05-30T18:18:43.781Z"
   },
   {
    "duration": 18,
    "start_time": "2022-05-30T18:18:43.866Z"
   },
   {
    "duration": 5320,
    "start_time": "2022-05-30T18:18:43.886Z"
   },
   {
    "duration": 64,
    "start_time": "2022-05-30T18:18:49.207Z"
   },
   {
    "duration": 71,
    "start_time": "2022-05-30T18:18:49.273Z"
   },
   {
    "duration": 459,
    "start_time": "2022-05-30T18:18:49.345Z"
   },
   {
    "duration": 475,
    "start_time": "2022-05-30T18:18:49.815Z"
   },
   {
    "duration": 291,
    "start_time": "2022-05-30T18:18:50.292Z"
   },
   {
    "duration": 34,
    "start_time": "2022-05-30T18:18:50.585Z"
   },
   {
    "duration": 94,
    "start_time": "2022-05-30T18:18:50.621Z"
   },
   {
    "duration": 23,
    "start_time": "2022-05-30T18:18:50.717Z"
   },
   {
    "duration": 133,
    "start_time": "2022-05-30T18:18:50.742Z"
   },
   {
    "duration": 5,
    "start_time": "2022-05-30T18:18:50.877Z"
   },
   {
    "duration": 24631,
    "start_time": "2022-05-30T18:18:50.883Z"
   },
   {
    "duration": 184054,
    "start_time": "2022-05-30T18:19:15.517Z"
   },
   {
    "duration": 210197,
    "start_time": "2022-05-30T18:22:19.573Z"
   },
   {
    "duration": 540854,
    "start_time": "2022-05-30T18:25:49.772Z"
   },
   {
    "duration": 251,
    "start_time": "2022-05-30T18:34:50.628Z"
   },
   {
    "duration": 15,
    "start_time": "2022-05-30T18:36:56.885Z"
   },
   {
    "duration": 7145,
    "start_time": "2022-05-30T18:36:56.904Z"
   },
   {
    "duration": 1183,
    "start_time": "2022-05-30T18:37:04.051Z"
   },
   {
    "duration": 3,
    "start_time": "2022-05-30T18:37:05.236Z"
   },
   {
    "duration": 48570,
    "start_time": "2022-05-30T18:37:05.240Z"
   },
   {
    "duration": 80,
    "start_time": "2022-05-30T18:37:53.815Z"
   },
   {
    "duration": 370,
    "start_time": "2022-05-30T18:37:53.897Z"
   },
   {
    "duration": 94,
    "start_time": "2022-05-30T18:37:54.269Z"
   },
   {
    "duration": 62,
    "start_time": "2022-05-30T18:37:54.365Z"
   },
   {
    "duration": 18,
    "start_time": "2022-05-30T18:37:54.429Z"
   },
   {
    "duration": 5413,
    "start_time": "2022-05-30T18:37:54.448Z"
   },
   {
    "duration": 70,
    "start_time": "2022-05-30T18:37:59.863Z"
   },
   {
    "duration": 55,
    "start_time": "2022-05-30T18:37:59.935Z"
   },
   {
    "duration": 465,
    "start_time": "2022-05-30T18:38:00.006Z"
   },
   {
    "duration": 480,
    "start_time": "2022-05-30T18:38:00.473Z"
   },
   {
    "duration": 317,
    "start_time": "2022-05-30T18:38:00.955Z"
   },
   {
    "duration": 41,
    "start_time": "2022-05-30T18:38:01.274Z"
   },
   {
    "duration": 94,
    "start_time": "2022-05-30T18:38:01.317Z"
   },
   {
    "duration": 42,
    "start_time": "2022-05-30T18:38:01.413Z"
   },
   {
    "duration": 131,
    "start_time": "2022-05-30T18:38:01.457Z"
   },
   {
    "duration": 5,
    "start_time": "2022-05-30T18:38:01.589Z"
   },
   {
    "duration": 24319,
    "start_time": "2022-05-30T18:38:01.602Z"
   },
   {
    "duration": 138340,
    "start_time": "2022-05-30T18:38:25.923Z"
   },
   {
    "duration": 106832,
    "start_time": "2022-05-30T18:40:44.264Z"
   },
   {
    "duration": 211706,
    "start_time": "2022-05-30T18:42:31.098Z"
   },
   {
    "duration": 344,
    "start_time": "2022-05-30T18:46:02.805Z"
   },
   {
    "duration": 42,
    "start_time": "2022-06-01T08:04:59.678Z"
   },
   {
    "duration": 13608,
    "start_time": "2022-06-01T08:05:00.559Z"
   },
   {
    "duration": 530,
    "start_time": "2022-06-01T08:05:14.170Z"
   },
   {
    "duration": 0,
    "start_time": "2022-06-01T08:05:14.702Z"
   },
   {
    "duration": 0,
    "start_time": "2022-06-01T08:05:14.704Z"
   },
   {
    "duration": 0,
    "start_time": "2022-06-01T08:05:14.705Z"
   },
   {
    "duration": 0,
    "start_time": "2022-06-01T08:05:14.707Z"
   },
   {
    "duration": 0,
    "start_time": "2022-06-01T08:05:14.708Z"
   },
   {
    "duration": 0,
    "start_time": "2022-06-01T08:05:14.710Z"
   },
   {
    "duration": 0,
    "start_time": "2022-06-01T08:05:14.711Z"
   },
   {
    "duration": 0,
    "start_time": "2022-06-01T08:05:14.712Z"
   },
   {
    "duration": 0,
    "start_time": "2022-06-01T08:05:14.714Z"
   },
   {
    "duration": 10,
    "start_time": "2022-06-01T08:05:14.997Z"
   },
   {
    "duration": 22,
    "start_time": "2022-06-01T08:05:37.870Z"
   },
   {
    "duration": 7649,
    "start_time": "2022-06-01T08:05:38.458Z"
   },
   {
    "duration": 1573,
    "start_time": "2022-06-01T08:05:46.110Z"
   },
   {
    "duration": 3,
    "start_time": "2022-06-01T08:06:13.755Z"
   },
   {
    "duration": 49115,
    "start_time": "2022-06-01T08:06:15.280Z"
   },
   {
    "duration": 93,
    "start_time": "2022-06-01T08:07:04.397Z"
   },
   {
    "duration": 402,
    "start_time": "2022-06-01T08:07:04.491Z"
   },
   {
    "duration": 101,
    "start_time": "2022-06-01T08:07:04.895Z"
   },
   {
    "duration": 59,
    "start_time": "2022-06-01T08:09:05.057Z"
   },
   {
    "duration": 21,
    "start_time": "2022-06-01T08:09:05.456Z"
   },
   {
    "duration": 5611,
    "start_time": "2022-06-01T08:09:05.959Z"
   },
   {
    "duration": 64,
    "start_time": "2022-06-01T08:09:11.572Z"
   },
   {
    "duration": 78,
    "start_time": "2022-06-01T08:09:11.638Z"
   },
   {
    "duration": 460,
    "start_time": "2022-06-01T08:09:11.719Z"
   },
   {
    "duration": 490,
    "start_time": "2022-06-01T08:09:12.181Z"
   },
   {
    "duration": 303,
    "start_time": "2022-06-01T08:09:12.672Z"
   },
   {
    "duration": 25,
    "start_time": "2022-06-01T08:09:12.977Z"
   },
   {
    "duration": 105,
    "start_time": "2022-06-01T08:09:13.004Z"
   },
   {
    "duration": 21,
    "start_time": "2022-06-01T08:09:13.111Z"
   },
   {
    "duration": 133,
    "start_time": "2022-06-01T08:09:35.121Z"
   },
   {
    "duration": 99,
    "start_time": "2022-06-01T08:12:35.835Z"
   },
   {
    "duration": 157,
    "start_time": "2022-06-01T08:14:12.056Z"
   },
   {
    "duration": 12,
    "start_time": "2022-06-01T08:15:17.167Z"
   },
   {
    "duration": 392,
    "start_time": "2022-06-01T08:15:27.327Z"
   },
   {
    "duration": 27,
    "start_time": "2022-06-01T08:15:36.266Z"
   },
   {
    "duration": 9,
    "start_time": "2022-06-01T08:18:19.666Z"
   },
   {
    "duration": 24193,
    "start_time": "2022-06-01T08:18:26.286Z"
   },
   {
    "duration": 153063,
    "start_time": "2022-06-01T08:18:50.481Z"
   },
   {
    "duration": 712,
    "start_time": "2022-06-01T08:21:23.546Z"
   },
   {
    "duration": 9079,
    "start_time": "2022-06-01T08:26:50.900Z"
   },
   {
    "duration": 7,
    "start_time": "2022-06-01T08:27:23.307Z"
   },
   {
    "duration": 6,
    "start_time": "2022-06-01T08:29:08.454Z"
   },
   {
    "duration": 697,
    "start_time": "2022-06-01T08:29:11.016Z"
   },
   {
    "duration": 37,
    "start_time": "2022-06-01T08:31:50.244Z"
   },
   {
    "duration": 13,
    "start_time": "2022-06-01T08:31:56.398Z"
   },
   {
    "duration": 13,
    "start_time": "2022-06-01T08:32:00.803Z"
   },
   {
    "duration": 48,
    "start_time": "2022-06-01T08:33:02.082Z"
   },
   {
    "duration": 11,
    "start_time": "2022-06-01T08:33:07.834Z"
   },
   {
    "duration": 714,
    "start_time": "2022-06-01T08:33:13.314Z"
   },
   {
    "duration": 6,
    "start_time": "2022-06-01T08:35:19.755Z"
   },
   {
    "duration": 234,
    "start_time": "2022-06-01T08:35:22.143Z"
   },
   {
    "duration": 4,
    "start_time": "2022-06-01T08:38:12.310Z"
   },
   {
    "duration": 7,
    "start_time": "2022-06-01T08:39:58.265Z"
   },
   {
    "duration": 230,
    "start_time": "2022-06-01T08:40:03.939Z"
   },
   {
    "duration": 884,
    "start_time": "2022-06-01T08:48:28.323Z"
   },
   {
    "duration": 1117,
    "start_time": "2022-06-01T08:48:39.894Z"
   },
   {
    "duration": 1121,
    "start_time": "2022-06-01T08:48:49.226Z"
   },
   {
    "duration": 159,
    "start_time": "2022-06-01T09:00:00.055Z"
   },
   {
    "duration": 36930,
    "start_time": "2022-06-01T09:00:07.857Z"
   },
   {
    "duration": 148,
    "start_time": "2022-06-01T09:03:35.170Z"
   },
   {
    "duration": 600,
    "start_time": "2022-06-01T09:03:40.855Z"
   },
   {
    "duration": 15698,
    "start_time": "2022-06-01T09:08:37.403Z"
   },
   {
    "duration": 6,
    "start_time": "2022-06-01T09:09:39.904Z"
   },
   {
    "duration": 4,
    "start_time": "2022-06-01T09:10:46.651Z"
   },
   {
    "duration": 7,
    "start_time": "2022-06-01T09:14:24.784Z"
   },
   {
    "duration": 48,
    "start_time": "2022-06-01T09:14:30.694Z"
   },
   {
    "duration": 6,
    "start_time": "2022-06-01T09:18:38.571Z"
   },
   {
    "duration": 47292,
    "start_time": "2022-06-01T09:18:42.028Z"
   },
   {
    "duration": 5,
    "start_time": "2022-06-01T09:29:32.239Z"
   },
   {
    "duration": 35,
    "start_time": "2022-06-01T09:29:55.752Z"
   },
   {
    "duration": 10,
    "start_time": "2022-06-01T09:30:00.615Z"
   },
   {
    "duration": 47552,
    "start_time": "2022-06-01T09:30:05.373Z"
   },
   {
    "duration": 989,
    "start_time": "2022-06-01T09:31:08.044Z"
   },
   {
    "duration": 8,
    "start_time": "2022-06-01T10:04:55.751Z"
   },
   {
    "duration": 50,
    "start_time": "2022-06-01T10:05:00.463Z"
   },
   {
    "duration": 47,
    "start_time": "2022-06-01T10:06:04.979Z"
   },
   {
    "duration": 8213,
    "start_time": "2022-06-01T10:06:31.015Z"
   },
   {
    "duration": 9,
    "start_time": "2022-06-01T10:08:12.878Z"
   },
   {
    "duration": 74,
    "start_time": "2022-06-01T10:08:19.536Z"
   },
   {
    "duration": 125,
    "start_time": "2022-06-01T10:09:55.206Z"
   },
   {
    "duration": 12243,
    "start_time": "2022-06-01T10:11:30.628Z"
   },
   {
    "duration": 6,
    "start_time": "2022-06-01T10:12:01.845Z"
   },
   {
    "duration": 11,
    "start_time": "2022-06-01T10:13:43.689Z"
   },
   {
    "duration": 2757,
    "start_time": "2022-06-01T10:13:49.527Z"
   },
   {
    "duration": 10,
    "start_time": "2022-06-01T10:16:24.987Z"
   },
   {
    "duration": 4,
    "start_time": "2022-06-01T10:16:38.337Z"
   },
   {
    "duration": 35,
    "start_time": "2022-06-01T10:19:50.427Z"
   },
   {
    "duration": 7,
    "start_time": "2022-06-01T10:19:56.714Z"
   },
   {
    "duration": 95656,
    "start_time": "2022-06-01T10:20:05.014Z"
   },
   {
    "duration": 8,
    "start_time": "2022-06-01T10:21:40.671Z"
   },
   {
    "duration": 11982,
    "start_time": "2022-06-01T10:21:48.384Z"
   },
   {
    "duration": 9,
    "start_time": "2022-06-01T10:22:04.271Z"
   },
   {
    "duration": 81,
    "start_time": "2022-06-01T10:23:12.991Z"
   },
   {
    "duration": 38119,
    "start_time": "2022-06-01T10:23:25.353Z"
   },
   {
    "duration": 9,
    "start_time": "2022-06-01T10:24:23.120Z"
   },
   {
    "duration": 4,
    "start_time": "2022-06-01T10:30:37.540Z"
   },
   {
    "duration": 8,
    "start_time": "2022-06-01T10:31:15.179Z"
   },
   {
    "duration": 23893,
    "start_time": "2022-06-01T10:31:26.376Z"
   },
   {
    "duration": 149535,
    "start_time": "2022-06-01T10:33:54.730Z"
   },
   {
    "duration": 45517,
    "start_time": "2022-06-01T10:36:24.267Z"
   },
   {
    "duration": 41784,
    "start_time": "2022-06-01T10:37:09.786Z"
   },
   {
    "duration": 9,
    "start_time": "2022-06-01T10:37:51.572Z"
   },
   {
    "duration": 75769,
    "start_time": "2022-06-01T10:39:25.699Z"
   },
   {
    "duration": 9,
    "start_time": "2022-06-01T10:40:41.470Z"
   },
   {
    "duration": 13,
    "start_time": "2022-06-01T10:44:09.905Z"
   },
   {
    "duration": 14,
    "start_time": "2022-06-01T10:44:23.100Z"
   },
   {
    "duration": 8629,
    "start_time": "2022-06-01T10:44:55.538Z"
   },
   {
    "duration": 8453,
    "start_time": "2022-06-01T10:45:12.111Z"
   },
   {
    "duration": 8510,
    "start_time": "2022-06-01T10:45:43.955Z"
   },
   {
    "duration": 19,
    "start_time": "2022-06-01T10:46:41.340Z"
   },
   {
    "duration": 7666,
    "start_time": "2022-06-01T10:46:41.361Z"
   },
   {
    "duration": 1347,
    "start_time": "2022-06-01T10:46:49.030Z"
   },
   {
    "duration": 4,
    "start_time": "2022-06-01T10:46:50.380Z"
   },
   {
    "duration": 49942,
    "start_time": "2022-06-01T10:46:50.386Z"
   },
   {
    "duration": 97,
    "start_time": "2022-06-01T10:47:40.330Z"
   },
   {
    "duration": 417,
    "start_time": "2022-06-01T10:47:40.428Z"
   },
   {
    "duration": 96,
    "start_time": "2022-06-01T10:47:40.847Z"
   },
   {
    "duration": 69,
    "start_time": "2022-06-01T10:47:40.945Z"
   },
   {
    "duration": 22,
    "start_time": "2022-06-01T10:47:41.016Z"
   },
   {
    "duration": 5761,
    "start_time": "2022-06-01T10:47:41.040Z"
   },
   {
    "duration": 76,
    "start_time": "2022-06-01T10:47:46.803Z"
   },
   {
    "duration": 71,
    "start_time": "2022-06-01T10:47:46.881Z"
   },
   {
    "duration": 512,
    "start_time": "2022-06-01T10:47:46.965Z"
   },
   {
    "duration": 522,
    "start_time": "2022-06-01T10:47:47.479Z"
   },
   {
    "duration": 321,
    "start_time": "2022-06-01T10:47:48.003Z"
   },
   {
    "duration": 29,
    "start_time": "2022-06-01T10:47:48.325Z"
   },
   {
    "duration": 99,
    "start_time": "2022-06-01T10:47:48.365Z"
   },
   {
    "duration": 21,
    "start_time": "2022-06-01T10:47:48.466Z"
   },
   {
    "duration": 148,
    "start_time": "2022-06-01T10:47:48.488Z"
   },
   {
    "duration": 101,
    "start_time": "2022-06-01T10:47:48.638Z"
   },
   {
    "duration": 501,
    "start_time": "2022-06-01T10:47:48.741Z"
   },
   {
    "duration": 32,
    "start_time": "2022-06-01T10:47:49.244Z"
   },
   {
    "duration": 11,
    "start_time": "2022-06-01T10:47:49.278Z"
   },
   {
    "duration": 8,
    "start_time": "2022-06-01T10:47:49.291Z"
   },
   {
    "duration": 26970,
    "start_time": "2022-06-01T10:47:49.301Z"
   },
   {
    "duration": 157344,
    "start_time": "2022-06-01T10:48:16.273Z"
   },
   {
    "duration": 46047,
    "start_time": "2022-06-01T10:50:53.621Z"
   },
   {
    "duration": 73296,
    "start_time": "2022-06-01T10:51:39.670Z"
   },
   {
    "duration": 198,
    "start_time": "2022-06-01T10:52:52.967Z"
   },
   {
    "duration": 8669,
    "start_time": "2022-06-01T10:52:53.167Z"
   },
   {
    "duration": 389,
    "start_time": "2022-06-01T11:37:17.051Z"
   },
   {
    "duration": 15,
    "start_time": "2022-06-01T11:39:50.183Z"
   },
   {
    "duration": 7524,
    "start_time": "2022-06-01T11:39:50.200Z"
   },
   {
    "duration": 1300,
    "start_time": "2022-06-01T11:39:57.726Z"
   },
   {
    "duration": 4,
    "start_time": "2022-06-01T11:39:59.029Z"
   },
   {
    "duration": 50672,
    "start_time": "2022-06-01T11:39:59.035Z"
   },
   {
    "duration": 99,
    "start_time": "2022-06-01T11:40:49.709Z"
   },
   {
    "duration": 422,
    "start_time": "2022-06-01T11:40:49.810Z"
   },
   {
    "duration": 95,
    "start_time": "2022-06-01T11:40:50.233Z"
   },
   {
    "duration": 71,
    "start_time": "2022-06-01T11:40:50.331Z"
   },
   {
    "duration": 23,
    "start_time": "2022-06-01T11:40:50.403Z"
   },
   {
    "duration": 6107,
    "start_time": "2022-06-01T11:40:50.428Z"
   },
   {
    "duration": 79,
    "start_time": "2022-06-01T11:40:56.537Z"
   },
   {
    "duration": 74,
    "start_time": "2022-06-01T11:40:56.618Z"
   },
   {
    "duration": 493,
    "start_time": "2022-06-01T11:40:56.693Z"
   },
   {
    "duration": 526,
    "start_time": "2022-06-01T11:40:57.188Z"
   },
   {
    "duration": 311,
    "start_time": "2022-06-01T11:40:57.716Z"
   },
   {
    "duration": 36,
    "start_time": "2022-06-01T11:40:58.029Z"
   },
   {
    "duration": 104,
    "start_time": "2022-06-01T11:40:58.068Z"
   },
   {
    "duration": 21,
    "start_time": "2022-06-01T11:40:58.173Z"
   },
   {
    "duration": 157,
    "start_time": "2022-06-01T11:40:58.196Z"
   },
   {
    "duration": 425,
    "start_time": "2022-06-01T11:40:58.354Z"
   },
   {
    "duration": 7,
    "start_time": "2022-06-01T11:40:58.781Z"
   },
   {
    "duration": 25475,
    "start_time": "2022-06-01T11:40:58.790Z"
   },
   {
    "duration": 155482,
    "start_time": "2022-06-01T11:41:24.269Z"
   },
   {
    "duration": 46130,
    "start_time": "2022-06-01T11:43:59.753Z"
   },
   {
    "duration": 78186,
    "start_time": "2022-06-01T11:44:45.885Z"
   },
   {
    "duration": 231,
    "start_time": "2022-06-01T11:46:04.073Z"
   },
   {
    "duration": 8432,
    "start_time": "2022-06-01T11:46:04.306Z"
   }
  ],
  "kernelspec": {
   "display_name": "Python 3 (ipykernel)",
   "language": "python",
   "name": "python3"
  },
  "language_info": {
   "codemirror_mode": {
    "name": "ipython",
    "version": 3
   },
   "file_extension": ".py",
   "mimetype": "text/x-python",
   "name": "python",
   "nbconvert_exporter": "python",
   "pygments_lexer": "ipython3",
   "version": "3.9.6"
  },
  "toc": {
   "base_numbering": 1,
   "nav_menu": {},
   "number_sections": true,
   "sideBar": true,
   "skip_h1_title": true,
   "title_cell": "Table of Contents",
   "title_sidebar": "Contents",
   "toc_cell": false,
   "toc_position": {},
   "toc_section_display": true,
   "toc_window_display": false
  }
 },
 "nbformat": 4,
 "nbformat_minor": 2
}
